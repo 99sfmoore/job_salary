{
 "metadata": {
  "name": "",
  "signature": "sha256:bc6c8bd699538a2b8b6bf837205af7a05d7fa71c28ffe5dad27f3cd67a05a72b"
 },
 "nbformat": 3,
 "nbformat_minor": 0,
 "worksheets": [
  {
   "cells": [
    {
     "cell_type": "markdown",
     "metadata": {},
     "source": [
      "Introduction\n",
      "============\n",
      "* Objective: Train a machine learning model to predict whether a job offers a salary of more or less than 30,000 GBP based on job listing data.\n",
      "* Download the raw job description data from https://s3.amazonaws.com/stylometry/job_salary_data.zip\n"
     ]
    },
    {
     "cell_type": "markdown",
     "metadata": {},
     "source": [
      "Data Exploration\n",
      "==============\n",
      "* Get an understanding of what each of the columns means\n",
      "* Understand what data is missing\n",
      "* Brainstorm features that might predict job salaries"
     ]
    },
    {
     "cell_type": "code",
     "collapsed": false,
     "input": [
      "import pandas as pd\n",
      "import numpy as np "
     ],
     "language": "python",
     "metadata": {},
     "outputs": [],
     "prompt_number": 1
    },
    {
     "cell_type": "code",
     "collapsed": false,
     "input": [
      "df = pd.read_csv('job_salary_data/job_salary_data.csv')"
     ],
     "language": "python",
     "metadata": {},
     "outputs": [],
     "prompt_number": 2
    },
    {
     "cell_type": "code",
     "collapsed": false,
     "input": [
      "df.shape"
     ],
     "language": "python",
     "metadata": {},
     "outputs": [
      {
       "metadata": {},
       "output_type": "pyout",
       "prompt_number": 3,
       "text": [
        "(12200, 13)"
       ]
      }
     ],
     "prompt_number": 3
    },
    {
     "cell_type": "code",
     "collapsed": false,
     "input": [
      "df.head()"
     ],
     "language": "python",
     "metadata": {},
     "outputs": [
      {
       "html": [
        "<div style=\"max-height:1000px;max-width:1500px;overflow:auto;\">\n",
        "<table border=\"1\" class=\"dataframe\">\n",
        "  <thead>\n",
        "    <tr style=\"text-align: right;\">\n",
        "      <th></th>\n",
        "      <th>Unnamed: 0</th>\n",
        "      <th>Id</th>\n",
        "      <th>Title</th>\n",
        "      <th>FullDescription</th>\n",
        "      <th>LocationRaw</th>\n",
        "      <th>LocationNormalized</th>\n",
        "      <th>ContractType</th>\n",
        "      <th>ContractTime</th>\n",
        "      <th>Company</th>\n",
        "      <th>Category</th>\n",
        "      <th>SalaryRaw</th>\n",
        "      <th>SalaryNormalized</th>\n",
        "      <th>SourceName</th>\n",
        "    </tr>\n",
        "  </thead>\n",
        "  <tbody>\n",
        "    <tr>\n",
        "      <th>0</th>\n",
        "      <td> 203734</td>\n",
        "      <td> 71944241</td>\n",
        "      <td>                           Manufacturing Toolmaker</td>\n",
        "      <td> A leading Medical Device company based in Oxfo...</td>\n",
        "      <td>    Oxford Oxfordshire South East</td>\n",
        "      <td>             Oxford</td>\n",
        "      <td>       NaN</td>\n",
        "      <td> permanent</td>\n",
        "      <td>                                   NaN</td>\n",
        "      <td>                   IT Jobs</td>\n",
        "      <td>                                             29500</td>\n",
        "      <td> 29500</td>\n",
        "      <td> technojobs.co.uk</td>\n",
        "    </tr>\n",
        "    <tr>\n",
        "      <th>1</th>\n",
        "      <td> 241465</td>\n",
        "      <td> 72676109</td>\n",
        "      <td>           iOS (iPhone, iPad) Mobile App Developer</td>\n",
        "      <td> Role: iOS (iPhone, iPad) App Developer Salary:...</td>\n",
        "      <td>          Bristol Avon South West</td>\n",
        "      <td>                 UK</td>\n",
        "      <td>       NaN</td>\n",
        "      <td> permanent</td>\n",
        "      <td>                      Yolk Recruitment</td>\n",
        "      <td>                   IT Jobs</td>\n",
        "      <td> From 35,000 to 45,000 per annum inc Lavish Ben...</td>\n",
        "      <td> 40000</td>\n",
        "      <td>    totaljobs.com</td>\n",
        "    </tr>\n",
        "    <tr>\n",
        "      <th>2</th>\n",
        "      <td>  58499</td>\n",
        "      <td> 68688307</td>\n",
        "      <td> Trainee Recruitment Consultant  High Profile, ...</td>\n",
        "      <td> Graduate Recruitment Consultant, Trainee Recru...</td>\n",
        "      <td> Manchester Lancashire North West</td>\n",
        "      <td>                 UK</td>\n",
        "      <td>       NaN</td>\n",
        "      <td> permanent</td>\n",
        "      <td>                        Ask Associates</td>\n",
        "      <td>                Sales Jobs</td>\n",
        "      <td> From 18,000 to 40,000 per annum Basic 18k-20k ...</td>\n",
        "      <td> 29000</td>\n",
        "      <td>    totaljobs.com</td>\n",
        "    </tr>\n",
        "    <tr>\n",
        "      <th>3</th>\n",
        "      <td>  29778</td>\n",
        "      <td> 68057643</td>\n",
        "      <td> Business Development Manager \u2013 Transformers an...</td>\n",
        "      <td> Business Development Manager \u2013 Transformers an...</td>\n",
        "      <td>    Greater Manchester North West</td>\n",
        "      <td> Greater Manchester</td>\n",
        "      <td>       NaN</td>\n",
        "      <td> permanent</td>\n",
        "      <td> AES TECHNICAL &amp; EXECUTIVE CONSULTANTS</td>\n",
        "      <td>                Sales Jobs</td>\n",
        "      <td>                   From 35,000 to 40,000 per annum</td>\n",
        "      <td> 37500</td>\n",
        "      <td>    totaljobs.com</td>\n",
        "    </tr>\n",
        "    <tr>\n",
        "      <th>4</th>\n",
        "      <td>  42904</td>\n",
        "      <td> 68493155</td>\n",
        "      <td>                                   Finance Manager</td>\n",
        "      <td> Alexander Daniels is pleased to be working in ...</td>\n",
        "      <td>                    West Midlands</td>\n",
        "      <td>      West Midlands</td>\n",
        "      <td> full_time</td>\n",
        "      <td>  contract</td>\n",
        "      <td>                     Alexander Daniels</td>\n",
        "      <td> Accounting &amp; Finance Jobs</td>\n",
        "      <td>                    From 33,000 to 37,000 per year</td>\n",
        "      <td> 35000</td>\n",
        "      <td>          GAAPweb</td>\n",
        "    </tr>\n",
        "  </tbody>\n",
        "</table>\n",
        "</div>"
       ],
       "metadata": {},
       "output_type": "pyout",
       "prompt_number": 4,
       "text": [
        "   Unnamed: 0        Id                                              Title  \\\n",
        "0      203734  71944241                            Manufacturing Toolmaker   \n",
        "1      241465  72676109            iOS (iPhone, iPad) Mobile App Developer   \n",
        "2       58499  68688307  Trainee Recruitment Consultant  High Profile, ...   \n",
        "3       29778  68057643  Business Development Manager \u2013 Transformers an...   \n",
        "4       42904  68493155                                    Finance Manager   \n",
        "\n",
        "                                     FullDescription  \\\n",
        "0  A leading Medical Device company based in Oxfo...   \n",
        "1  Role: iOS (iPhone, iPad) App Developer Salary:...   \n",
        "2  Graduate Recruitment Consultant, Trainee Recru...   \n",
        "3  Business Development Manager \u2013 Transformers an...   \n",
        "4  Alexander Daniels is pleased to be working in ...   \n",
        "\n",
        "                        LocationRaw  LocationNormalized ContractType  \\\n",
        "0     Oxford Oxfordshire South East              Oxford          NaN   \n",
        "1           Bristol Avon South West                  UK          NaN   \n",
        "2  Manchester Lancashire North West                  UK          NaN   \n",
        "3     Greater Manchester North West  Greater Manchester          NaN   \n",
        "4                     West Midlands       West Midlands    full_time   \n",
        "\n",
        "  ContractTime                                Company  \\\n",
        "0    permanent                                    NaN   \n",
        "1    permanent                       Yolk Recruitment   \n",
        "2    permanent                         Ask Associates   \n",
        "3    permanent  AES TECHNICAL & EXECUTIVE CONSULTANTS   \n",
        "4     contract                      Alexander Daniels   \n",
        "\n",
        "                    Category  \\\n",
        "0                    IT Jobs   \n",
        "1                    IT Jobs   \n",
        "2                 Sales Jobs   \n",
        "3                 Sales Jobs   \n",
        "4  Accounting & Finance Jobs   \n",
        "\n",
        "                                           SalaryRaw  SalaryNormalized  \\\n",
        "0                                              29500             29500   \n",
        "1  From 35,000 to 45,000 per annum inc Lavish Ben...             40000   \n",
        "2  From 18,000 to 40,000 per annum Basic 18k-20k ...             29000   \n",
        "3                    From 35,000 to 40,000 per annum             37500   \n",
        "4                     From 33,000 to 37,000 per year             35000   \n",
        "\n",
        "         SourceName  \n",
        "0  technojobs.co.uk  \n",
        "1     totaljobs.com  \n",
        "2     totaljobs.com  \n",
        "3     totaljobs.com  \n",
        "4           GAAPweb  "
       ]
      }
     ],
     "prompt_number": 4
    },
    {
     "cell_type": "code",
     "collapsed": false,
     "input": [
      "# Missing data\n",
      "df.count()"
     ],
     "language": "python",
     "metadata": {},
     "outputs": [
      {
       "metadata": {},
       "output_type": "pyout",
       "prompt_number": 5,
       "text": [
        "Unnamed: 0            12200\n",
        "Id                    12200\n",
        "Title                 12200\n",
        "FullDescription       12200\n",
        "LocationRaw           12200\n",
        "LocationNormalized    12200\n",
        "ContractType           3250\n",
        "ContractTime           8958\n",
        "Company               10647\n",
        "Category              12200\n",
        "SalaryRaw             12200\n",
        "SalaryNormalized      12200\n",
        "SourceName            12200\n",
        "dtype: int64"
       ]
      }
     ],
     "prompt_number": 5
    },
    {
     "cell_type": "code",
     "collapsed": false,
     "input": [
      "from collections import Counter"
     ],
     "language": "python",
     "metadata": {},
     "outputs": [],
     "prompt_number": 6
    },
    {
     "cell_type": "code",
     "collapsed": false,
     "input": [
      "Counter(df.ContractType)"
     ],
     "language": "python",
     "metadata": {},
     "outputs": [
      {
       "metadata": {},
       "output_type": "pyout",
       "prompt_number": 7,
       "text": [
        "Counter({nan: 8950, 'full_time': 2812, 'part_time': 438})"
       ]
      }
     ],
     "prompt_number": 7
    },
    {
     "cell_type": "code",
     "collapsed": false,
     "input": [
      "Counter(df.ContractTime)"
     ],
     "language": "python",
     "metadata": {},
     "outputs": [
      {
       "metadata": {},
       "output_type": "pyout",
       "prompt_number": 8,
       "text": [
        "Counter({'permanent': 7528, nan: 3242, 'contract': 1430})"
       ]
      }
     ],
     "prompt_number": 8
    },
    {
     "cell_type": "code",
     "collapsed": false,
     "input": [
      "df.SalaryNormalized.median()"
     ],
     "language": "python",
     "metadata": {},
     "outputs": [
      {
       "metadata": {},
       "output_type": "pyout",
       "prompt_number": 9,
       "text": [
        "30000.0"
       ]
      }
     ],
     "prompt_number": 9
    },
    {
     "cell_type": "markdown",
     "metadata": {},
     "source": [
      "Feature Engineering and Design Matrix\n",
      "============\n",
      "* The goal of feature engineering is to find values that are predictive of our objective function / label, in this case whether or not a job has a salary of more than 30,000 GBP \n",
      "* The Pandas DataFrame is a data structure that is well suited for transforming the raw data to a data structure"
     ]
    },
    {
     "cell_type": "code",
     "collapsed": false,
     "input": [
      "feature_registry = {} #To be filled with features below\n",
      "\n",
      "def feature_fn(f):\n",
      "    \"\"\"\n",
      "    Decorator for feature functions. Adds function to registry, and does some basic type checking\n",
      "    or arguments and return values\n",
      "    \"\"\"\n",
      "    def decorator(raw_data):\n",
      "        assert type(raw_data) == pd.DataFrame, \"Bad argument type\"\n",
      "        res = f(raw_data)\n",
      "        assert (type(res) == pd.DataFrame) or (type(res) == pd.Series), \"Bad return value type\"\n",
      "        return res\n",
      "\n",
      "    feature_registry[f.__name__] = decorator\n",
      "    return decorator\n",
      "\n",
      "def design_matrix(raw_data, feature_registry_names):\n",
      "    assert len(set(feature_registry_names)) == len(feature_registry_names),  \\\n",
      "        \"Duplicate feature names detected\"\n",
      "    assert set(feature_registry_names).issubset(set(feature_registry.keys())), \\\n",
      "        \"Unknown feature fn name %s\" % (set(feature_registry_names) - set(feature_registry.keys()))\n",
      "    \n",
      "    feature_dataframes = []\n",
      "    for feature_fn_name in feature_registry_names:\n",
      "        feature_dataframes.append(feature_registry[feature_fn_name](raw_data))\n",
      "\n",
      "    return pd.concat(feature_dataframes, axis=1)\n",
      "\n",
      "def labels(raw_data):\n",
      "    return (raw_data.SalaryNormalized > 30000).astype(int)"
     ],
     "language": "python",
     "metadata": {},
     "outputs": [],
     "prompt_number": 10
    },
    {
     "cell_type": "code",
     "collapsed": false,
     "input": [
      "train_test_split_index = int(12200 * 0.7) # 70% of data for training, 30% of data for testing\n",
      "train_data = df.iloc[:train_test_split_index]\n",
      "test_data = df.iloc[train_test_split_index:]"
     ],
     "language": "python",
     "metadata": {},
     "outputs": [],
     "prompt_number": 11
    },
    {
     "cell_type": "markdown",
     "metadata": {},
     "source": [
      "Making a categorical variable numerical by taking group averages\n",
      "------------------\n",
      "* category_median_salary"
     ]
    },
    {
     "cell_type": "code",
     "collapsed": false,
     "input": [
      "# Median salary by ContractType and ContractTime\n",
      "from collections import defaultdict\n",
      "from collections import OrderedDict\n",
      "category_median_salary_dict = defaultdict(lambda: 30000)\n",
      "category_median_salary_dict.update(train_data[['Category', 'SalaryNormalized']].groupby('Category').median().to_dict()['SalaryNormalized'])"
     ],
     "language": "python",
     "metadata": {},
     "outputs": [],
     "prompt_number": 12
    },
    {
     "cell_type": "code",
     "collapsed": false,
     "input": [
      "print category_median_salary_dict"
     ],
     "language": "python",
     "metadata": {},
     "outputs": [
      {
       "output_type": "stream",
       "stream": "stdout",
       "text": [
        "defaultdict(<function <lambda> at 0x1072adc08>, {'Part time Jobs': 10000, 'Legal Jobs': 37500, 'Travel Jobs': 20750, 'Logistics & Warehouse Jobs': 21120, 'Social work Jobs': 31000, 'Property Jobs': 28000, 'Scientific & QA Jobs': 30000, 'Accounting & Finance Jobs': 35000, 'HR & Recruitment Jobs': 29850, 'Charity & Voluntary Jobs': 25000, 'Engineering Jobs': 32500, 'Hospitality & Catering Jobs': 21500, 'Customer Services Jobs': 17280, 'Trade & Construction Jobs': 34000, 'Maintenance Jobs': 12595, 'Admin Jobs': 18000, 'PR, Advertising & Marketing Jobs': 32500, 'Manufacturing Jobs': 22040, 'Consultancy Jobs': 35000, 'Creative & Design Jobs': 30750, 'Other/General Jobs': 27500, 'Graduate Jobs': 25000, 'Sales Jobs': 27500, 'Retail Jobs': 27500, 'Domestic help & Cleaning Jobs': 12896, 'Energy, Oil & Gas Jobs': 40000, 'Healthcare & Nursing Jobs': 28500, 'IT Jobs': 40000, 'Teaching Jobs': 27819})\n"
       ]
      }
     ],
     "prompt_number": 13
    },
    {
     "cell_type": "code",
     "collapsed": false,
     "input": [
      "@feature_fn\n",
      "def category_median_salary(raw_data):\n",
      "    return pd.DataFrame(data=[category_median_salary_dict[row['Category']] for _, row in raw_data.iterrows()],\n",
      "                        index=raw_data.index,\n",
      "                        columns=['category_median_salary'])\n",
      "\n"
     ],
     "language": "python",
     "metadata": {},
     "outputs": [],
     "prompt_number": 14
    },
    {
     "cell_type": "markdown",
     "metadata": {},
     "source": [
      "Making a categorical variable numerical by one-hot encoding\n",
      "------------------\n",
      "* contract_type\n",
      "* contract_time"
     ]
    },
    {
     "cell_type": "code",
     "collapsed": false,
     "input": [
      "print map(str, set(df.ContractType))"
     ],
     "language": "python",
     "metadata": {},
     "outputs": [
      {
       "output_type": "stream",
       "stream": "stdout",
       "text": [
        "['nan', 'part_time', 'full_time']\n"
       ]
      }
     ],
     "prompt_number": 15
    },
    {
     "cell_type": "code",
     "collapsed": false,
     "input": [
      "\n",
      "CONTRACT_TYPES = ['nan', 'part_time', 'full_time']\n",
      "@feature_fn\n",
      "def contract_type_one_hot(df):\n",
      "    res = pd.DataFrame(index=df.index)\n",
      "    for contract_type in CONTRACT_TYPES:\n",
      "        res['contract_type_%s' % contract_type] = (df.ContractType.astype(str) == contract_type).astype(int)\n",
      "    return res"
     ],
     "language": "python",
     "metadata": {},
     "outputs": [],
     "prompt_number": 16
    },
    {
     "cell_type": "code",
     "collapsed": false,
     "input": [
      "print map(str, set(df.ContractTime))"
     ],
     "language": "python",
     "metadata": {},
     "outputs": [
      {
       "output_type": "stream",
       "stream": "stdout",
       "text": [
        "['nan', 'permanent', 'contract']\n"
       ]
      }
     ],
     "prompt_number": 17
    },
    {
     "cell_type": "code",
     "collapsed": false,
     "input": [
      "CONTRACT_TIMES = ['nan', 'permanent', 'contract']\n",
      "@feature_fn\n",
      "def contract_time_one_hot(df):\n",
      "    res = pd.DataFrame(index=df.index)\n",
      "    for contract_type in CONTRACT_TIMES:\n",
      "        res['contract_time_%s' % contract_type] = (df.ContractTime.astype(str) == contract_type).astype(int)\n",
      "    return res"
     ],
     "language": "python",
     "metadata": {},
     "outputs": [],
     "prompt_number": 18
    },
    {
     "cell_type": "code",
     "collapsed": false,
     "input": [
      "from collections import Counter\n",
      "low_salary_counter = Counter(' '.join(train_data[train_data.SalaryNormalized <= 30000].Title).lower().split())"
     ],
     "language": "python",
     "metadata": {},
     "outputs": [],
     "prompt_number": 19
    },
    {
     "cell_type": "code",
     "collapsed": false,
     "input": [
      "high_salary_counter = Counter(' '.join(train_data[train_data.SalaryNormalized > 30000].Title).lower().split())"
     ],
     "language": "python",
     "metadata": {},
     "outputs": [],
     "prompt_number": 20
    },
    {
     "cell_type": "code",
     "collapsed": false,
     "input": [
      "low_salary_counter_frequent = Counter(dict([(k,v) for (k,v) in low_salary_counter.iteritems() if v > 10]))\n",
      "high_salary_counter_frequent = Counter(dict([(k,v) for (k,v) in high_salary_counter.iteritems() if v > 10]))\n"
     ],
     "language": "python",
     "metadata": {},
     "outputs": [],
     "prompt_number": 21
    },
    {
     "cell_type": "code",
     "collapsed": false,
     "input": [
      "title_words = set(low_salary_counter_frequent.keys()).union(set(high_salary_counter_frequent.keys()))"
     ],
     "language": "python",
     "metadata": {},
     "outputs": [],
     "prompt_number": 22
    },
    {
     "cell_type": "code",
     "collapsed": false,
     "input": [
      "rel_freq = {}\n",
      "for word in title_words:\n",
      "    rel_freq[word] = ((high_salary_counter[word] / float(sum(train_data.SalaryNormalized > 30000))) / \n",
      "                     ((low_salary_counter[word] + 0.01) / float(sum(train_data.SalaryNormalized <= 30000))))"
     ],
     "language": "python",
     "metadata": {},
     "outputs": [],
     "prompt_number": 23
    },
    {
     "cell_type": "markdown",
     "metadata": {},
     "source": [
      "Feature engineering with raw text data\n",
      "====================\n",
      "* high-salary words\n",
      "* low-salary words"
     ]
    },
    {
     "cell_type": "code",
     "collapsed": false,
     "input": [
      "HIGH_SALARY_WORDS = {key for key, value in rel_freq.iteritems() if value > 1}\n",
      "LOW_SALARY_WORDS = {key for key, value in rel_freq.iteritems() if value <= 1}"
     ],
     "language": "python",
     "metadata": {},
     "outputs": [],
     "prompt_number": 24
    },
    {
     "cell_type": "code",
     "collapsed": false,
     "input": [
      "def row_num_high_salary_words(row):\n",
      "    return len([word for word in row['Title'].lower().split() if word in HIGH_SALARY_WORDS])\n",
      "\n",
      "@feature_fn\n",
      "def num_high_salary_words(df):\n",
      "    return pd.DataFrame(data=df.apply(row_num_high_salary_words, axis=1),\n",
      "                        columns=['num_high_salary_words'])\n",
      "\n",
      "def row_num_low_salary_words(row):\n",
      "    return len([word for word in row['Title'].lower().split() if word in LOW_SALARY_WORDS])\n",
      "\n",
      "@feature_fn\n",
      "def num_low_salary_words(df):\n",
      "    return pd.DataFrame(data=df.apply(row_num_low_salary_words, axis=1),\n",
      "                        columns=['num_low_salary_words'])\n"
     ],
     "language": "python",
     "metadata": {},
     "outputs": [],
     "prompt_number": 25
    },
    {
     "cell_type": "markdown",
     "metadata": {},
     "source": [
      "Training the model and making predictions\n",
      "============================="
     ]
    },
    {
     "cell_type": "code",
     "collapsed": false,
     "input": [
      "from sklearn.linear_model import LogisticRegression\n",
      "from sklearn.ensemble import RandomForestClassifier"
     ],
     "language": "python",
     "metadata": {},
     "outputs": [],
     "prompt_number": 26
    },
    {
     "cell_type": "code",
     "collapsed": false,
     "input": [
      "Xtrain = design_matrix(train_data, ['category_median_salary', \n",
      "                                    'contract_type_one_hot', \n",
      "                                    'contract_time_one_hot', \n",
      "                                    'num_low_salary_words',\n",
      "                                    'num_high_salary_words'])\n",
      "\n",
      "Xtest = design_matrix(test_data, ['category_median_salary', \n",
      "                                    'contract_type_one_hot', \n",
      "                                    'contract_time_one_hot', \n",
      "                                    'num_low_salary_words',\n",
      "                                    'num_high_salary_words'])"
     ],
     "language": "python",
     "metadata": {},
     "outputs": [],
     "prompt_number": 27
    },
    {
     "cell_type": "code",
     "collapsed": false,
     "input": [
      "\n",
      "rf_model = RandomForestClassifier(n_estimators=10)\n",
      "rf_model.fit(Xtrain, labels(train_data))"
     ],
     "language": "python",
     "metadata": {},
     "outputs": [
      {
       "metadata": {},
       "output_type": "pyout",
       "prompt_number": 28,
       "text": [
        "RandomForestClassifier(bootstrap=True, class_weight=None, criterion='gini',\n",
        "            max_depth=None, max_features='auto', max_leaf_nodes=None,\n",
        "            min_samples_leaf=1, min_samples_split=2,\n",
        "            min_weight_fraction_leaf=0.0, n_estimators=10, n_jobs=1,\n",
        "            oob_score=False, random_state=None, verbose=0,\n",
        "            warm_start=False)"
       ]
      }
     ],
     "prompt_number": 28
    },
    {
     "cell_type": "code",
     "collapsed": false,
     "input": [
      "zip(Xtrain.columns, rf_model.feature_importances_)"
     ],
     "language": "python",
     "metadata": {},
     "outputs": [
      {
       "metadata": {},
       "output_type": "pyout",
       "prompt_number": 29,
       "text": [
        "[('category_median_salary', 0.32899159511932408),\n",
        " ('contract_type_nan', 0.014754642234826958),\n",
        " ('contract_type_part_time', 0.010390325797013916),\n",
        " ('contract_type_full_time', 0.014206223779164778),\n",
        " ('contract_time_nan', 0.011008084938986418),\n",
        " ('contract_time_permanent', 0.018139278671803608),\n",
        " ('contract_time_contract', 0.0095614264267990193),\n",
        " ('num_low_salary_words', 0.23981281624552606),\n",
        " ('num_high_salary_words', 0.35313560678655509)]"
       ]
      }
     ],
     "prompt_number": 29
    },
    {
     "cell_type": "code",
     "collapsed": false,
     "input": [
      "lr_model = LogisticRegression()\n",
      "lr_model.fit(Xtrain, labels(train_data))"
     ],
     "language": "python",
     "metadata": {},
     "outputs": [
      {
       "metadata": {},
       "output_type": "pyout",
       "prompt_number": 30,
       "text": [
        "LogisticRegression(C=1.0, class_weight=None, dual=False, fit_intercept=True,\n",
        "          intercept_scaling=1, max_iter=100, multi_class='ovr',\n",
        "          penalty='l2', random_state=None, solver='liblinear', tol=0.0001,\n",
        "          verbose=0)"
       ]
      }
     ],
     "prompt_number": 30
    },
    {
     "cell_type": "code",
     "collapsed": false,
     "input": [
      "lr_model.train_columns = Xtrain.columns"
     ],
     "language": "python",
     "metadata": {},
     "outputs": [],
     "prompt_number": 31
    },
    {
     "cell_type": "code",
     "collapsed": false,
     "input": [
      "zip(Xtrain.columns, list(lr_model.coef_[0]))"
     ],
     "language": "python",
     "metadata": {},
     "outputs": [
      {
       "metadata": {},
       "output_type": "pyout",
       "prompt_number": 32,
       "text": [
        "[('category_median_salary', 4.0545117801441045e-05),\n",
        " ('contract_type_nan', -0.16003311803401268),\n",
        " ('contract_type_part_time', -0.30704170711759421),\n",
        " ('contract_type_full_time', -0.34770981936244899),\n",
        " ('contract_time_nan', -0.44609210889537443),\n",
        " ('contract_time_permanent', -0.33755939207958552),\n",
        " ('contract_time_contract', -0.031133143539152253),\n",
        " ('num_low_salary_words', -0.71369779318194326),\n",
        " ('num_high_salary_words', 0.47821864862339575)]"
       ]
      }
     ],
     "prompt_number": 32
    },
    {
     "cell_type": "code",
     "collapsed": false,
     "input": [],
     "language": "python",
     "metadata": {},
     "outputs": [],
     "prompt_number": 32
    },
    {
     "cell_type": "markdown",
     "metadata": {},
     "source": [
      "Model Performance Evaluation\n",
      "======================\n",
      "* Percent accuracy\n",
      "* Uncertainty in percent accuracy using bootstrap"
     ]
    },
    {
     "cell_type": "code",
     "collapsed": false,
     "input": [
      "lr_predictions = lr_model.predict(Xtest)\n",
      "test_data['lr_prediction'] = lr_predictions"
     ],
     "language": "python",
     "metadata": {},
     "outputs": [
      {
       "output_type": "stream",
       "stream": "stderr",
       "text": [
        "-c:2: SettingWithCopyWarning: \n",
        "A value is trying to be set on a copy of a slice from a DataFrame.\n",
        "Try using .loc[row_indexer,col_indexer] = value instead\n",
        "\n",
        "See the the caveats in the documentation: http://pandas.pydata.org/pandas-docs/stable/indexing.html#indexing-view-versus-copy\n"
       ]
      }
     ],
     "prompt_number": 33
    },
    {
     "cell_type": "code",
     "collapsed": false,
     "input": [
      "rf_predictions = rf_model.predict(Xtest)\n",
      "test_data['rf_prediction'] = rf_predictions"
     ],
     "language": "python",
     "metadata": {},
     "outputs": [],
     "prompt_number": 34
    },
    {
     "cell_type": "code",
     "collapsed": false,
     "input": [
      "test_data['label'] = labels(test_data)"
     ],
     "language": "python",
     "metadata": {},
     "outputs": [
      {
       "output_type": "stream",
       "stream": "stderr",
       "text": [
        "-c:1: SettingWithCopyWarning: \n",
        "A value is trying to be set on a copy of a slice from a DataFrame.\n",
        "Try using .loc[row_indexer,col_indexer] = value instead\n",
        "\n",
        "See the the caveats in the documentation: http://pandas.pydata.org/pandas-docs/stable/indexing.html#indexing-view-versus-copy\n"
       ]
      }
     ],
     "prompt_number": 35
    },
    {
     "cell_type": "code",
     "collapsed": false,
     "input": [
      "# Percent accuracy of logistic regression model prediction\n",
      "sum(test_data.label == test_data.lr_prediction) / float(len(test_data))"
     ],
     "language": "python",
     "metadata": {},
     "outputs": [
      {
       "metadata": {},
       "output_type": "pyout",
       "prompt_number": 36,
       "text": [
        "0.74289617486338799"
       ]
      }
     ],
     "prompt_number": 36
    },
    {
     "cell_type": "code",
     "collapsed": false,
     "input": [
      "# Percent accuracy of random forest model prediction\n",
      "sum(test_data.label == test_data.rf_prediction) / float(len(test_data))"
     ],
     "language": "python",
     "metadata": {},
     "outputs": [
      {
       "metadata": {},
       "output_type": "pyout",
       "prompt_number": 37,
       "text": [
        "0.73087431693989069"
       ]
      }
     ],
     "prompt_number": 37
    },
    {
     "cell_type": "code",
     "collapsed": false,
     "input": [
      "test_data['random_guess'] = np.random.choice([0, 1], len(test_data))"
     ],
     "language": "python",
     "metadata": {},
     "outputs": [],
     "prompt_number": 38
    },
    {
     "cell_type": "code",
     "collapsed": false,
     "input": [
      "# Percent accuracy of random guess\n",
      "sum(test_data.label == test_data.random_guess) / float(len(test_data))"
     ],
     "language": "python",
     "metadata": {},
     "outputs": [
      {
       "metadata": {},
       "output_type": "pyout",
       "prompt_number": 39,
       "text": [
        "0.50792349726775954"
       ]
      }
     ],
     "prompt_number": 39
    },
    {
     "cell_type": "code",
     "collapsed": false,
     "input": [
      "matches = map(int, (test_data.label == test_data.rf_prediction))"
     ],
     "language": "python",
     "metadata": {},
     "outputs": [],
     "prompt_number": 51
    },
    {
     "cell_type": "code",
     "collapsed": false,
     "input": [],
     "language": "python",
     "metadata": {},
     "outputs": []
    },
    {
     "cell_type": "code",
     "collapsed": false,
     "input": [
      "bootstrap_pct_err = []\n",
      "for _ in range(1000):\n",
      "    sample = np.random.choice(matches, len(matches))\n",
      "    bootstrap_pct_err.append(sum(sample)/float(len(sample)))"
     ],
     "language": "python",
     "metadata": {},
     "outputs": [],
     "prompt_number": 55
    },
    {
     "cell_type": "code",
     "collapsed": false,
     "input": [
      "np.percentile(bootstrap_pct_err, [5,95])"
     ],
     "language": "python",
     "metadata": {},
     "outputs": [
      {
       "metadata": {},
       "output_type": "pyout",
       "prompt_number": 58,
       "text": [
        "array([ 0.71885246,  0.74263661])"
       ]
      }
     ],
     "prompt_number": 58
    },
    {
     "cell_type": "markdown",
     "metadata": {},
     "source": [
      "Advanced Model Performance Evaluation\n",
      "======================================\n",
      "* ROC Curve"
     ]
    },
    {
     "cell_type": "code",
     "collapsed": false,
     "input": [
      "# predict proba is a more granular kind of prediction output\n",
      "rf_predict_proba = rf_model.predict_proba(Xtest)\n"
     ],
     "language": "python",
     "metadata": {},
     "outputs": [],
     "prompt_number": 40
    },
    {
     "cell_type": "code",
     "collapsed": false,
     "input": [
      "rf_predict_proba[:10]"
     ],
     "language": "python",
     "metadata": {},
     "outputs": [
      {
       "metadata": {},
       "output_type": "pyout",
       "prompt_number": 41,
       "text": [
        "array([[ 1.        ,  0.        ],\n",
        "       [ 0.72590055,  0.27409945],\n",
        "       [ 0.28645272,  0.71354728],\n",
        "       [ 0.52460317,  0.47539683],\n",
        "       [ 0.76093456,  0.23906544],\n",
        "       [ 0.03811391,  0.96188609],\n",
        "       [ 0.96674385,  0.03325615],\n",
        "       [ 0.68238234,  0.31761766],\n",
        "       [ 0.31357864,  0.68642136],\n",
        "       [ 0.15634788,  0.84365212]])"
       ]
      }
     ],
     "prompt_number": 41
    },
    {
     "cell_type": "code",
     "collapsed": false,
     "input": [
      "# second column of rf_predict_proba\n",
      "# higher when model is more confident that label == 1\n",
      "rf_predict_proba_positive = zip(*rf_predict_proba)[1]"
     ],
     "language": "python",
     "metadata": {},
     "outputs": [],
     "prompt_number": 42
    },
    {
     "cell_type": "code",
     "collapsed": false,
     "input": [
      "rf_predict_proba_positive[:10]"
     ],
     "language": "python",
     "metadata": {},
     "outputs": [
      {
       "metadata": {},
       "output_type": "pyout",
       "prompt_number": 43,
       "text": [
        "(0.0,\n",
        " 0.27409945207379049,\n",
        " 0.71354727859919576,\n",
        " 0.47539682539682537,\n",
        " 0.23906544435956198,\n",
        " 0.96188608572684264,\n",
        " 0.033256147728764361,\n",
        " 0.31761766011766007,\n",
        " 0.68642135642135638,\n",
        " 0.84365212442805038)"
       ]
      }
     ],
     "prompt_number": 43
    },
    {
     "cell_type": "code",
     "collapsed": false,
     "input": [
      "# rf_model.predict returns 1 if predict_proba_positive > 0.5 and 0 if < 0.5\n",
      "rf_predictions[:10]"
     ],
     "language": "python",
     "metadata": {},
     "outputs": [
      {
       "metadata": {},
       "output_type": "pyout",
       "prompt_number": 44,
       "text": [
        "array([0, 0, 1, 0, 0, 1, 0, 0, 1, 1])"
       ]
      }
     ],
     "prompt_number": 44
    },
    {
     "cell_type": "code",
     "collapsed": false,
     "input": [
      "test_data['rf_predict_proba_positive'] = rf_predict_proba_positive"
     ],
     "language": "python",
     "metadata": {},
     "outputs": [],
     "prompt_number": 45
    },
    {
     "cell_type": "code",
     "collapsed": false,
     "input": [
      "true_positive_rate = []\n",
      "false_positive_rate = []\n",
      "for threshold in [x/100.0 for x in range(100)]:\n",
      "    threshold_preds = [pp > threshold for pp in test_data.rf_predict_proba_positive]\n",
      "    num_true_pos = len([_ for (pred, label) in zip(threshold_preds, test_data.label) if (pred == 1) and label == 1])\n",
      "    num_false_pos = len([_ for (pred, label) in zip(threshold_preds, test_data.label) if (pred == 1) and label == 0])\n",
      "    num_pos = len([_ for label in test_data.label if label == 1])\n",
      "    num_neg = len([_ for label in test_data.label if label == 0])\n",
      "    true_positive_rate.append(float(num_true_pos)/float(num_pos))\n",
      "    false_positive_rate.append(float(num_false_pos)/float(num_neg))\n",
      "    \n",
      "    "
     ],
     "language": "python",
     "metadata": {},
     "outputs": [],
     "prompt_number": 46
    },
    {
     "cell_type": "code",
     "collapsed": false,
     "input": [
      "# ROC curve\n",
      "# toward the upper right, inclined to label as 1 (low threshold) => high true positive rate and high false positive rate\n",
      "# toward the lower left, inclined to label as 0 (high threshold) => low true positive rate and low false positive rate\n",
      "# plt.plot(false_positive_rate, true_positive_rate)\n",
      "# plt.savefig('ROC_curve.png')"
     ],
     "language": "python",
     "metadata": {},
     "outputs": [],
     "prompt_number": 47
    },
    {
     "cell_type": "code",
     "collapsed": false,
     "input": [
      "from IPython.display import Image\n",
      "Image(filename='ROC_curve.png') "
     ],
     "language": "python",
     "metadata": {},
     "outputs": [
      {
       "metadata": {},
       "output_type": "pyout",
       "png": "[encoded data removed]",
       "prompt_number": 48,
       "text": [
        "<IPython.core.display.Image at 0x10538c710>"
       ]
      }
     ],
     "prompt_number": 48
    },
    {
     "cell_type": "markdown",
     "metadata": {},
     "source": [
      "Declarative Model Training\n",
      "================\n",
      "* Describe all parameters of the model training process in one place with a model_config\n",
      "* train from model config and raw_data in one method call\n",
      "* recording model training"
     ]
    },
    {
     "cell_type": "code",
     "collapsed": false,
     "input": [
      "import hashlib\n",
      "import datetime\n",
      "import pickle\n",
      "def model_description(model, model_config, raw_data, X):\n",
      "    res = {}\n",
      "    res['model_config'] = model_config\n",
      "    res['data_sha'] = hashlib.sha256(str(raw_data.describe)).hexdigest()\n",
      "    if type(model) == LogisticRegression:\n",
      "        res['description'] = str(zip(Xtrain.columns, list(model.coef_[0])))\n",
      "    elif type(model) == RandomForestClassifier:\n",
      "        res['description'] = str(zip(Xtrain.columns, list(model.feature_importances_)))\n",
      "    else:\n",
      "        raise RuntimeError, \"Unknown model type\"\n",
      "    return res\n",
      "\n",
      "#Declarative model training\n",
      "MODEL_SPEC = {'logistic_regression' : LogisticRegression,\n",
      "              'random_forest': RandomForestClassifier}\n",
      "\n",
      "def train_model(raw_data, model_config):\n",
      "    X = design_matrix(raw_data, model_config['feature_fns'])\n",
      "    model = MODEL_SPEC[model_config['model_type']]()\n",
      "    model.fit(X, labels(raw_data))\n",
      "    model.description = model_description(model, model_config, raw_data, X)\n",
      "    \n",
      "    now_str = str(datetime.datetime.now()).replace(' ','_').replace('.','_').replace(':','_')\n",
      "    with open('model_descriptions/%s.txt' % now_str, 'w') as f:\n",
      "        f.write(str(model.description))\n",
      "    \n",
      "    with open('model.pkl', 'w') as f:\n",
      "        pickle.dump(model, f)"
     ],
     "language": "python",
     "metadata": {},
     "outputs": [],
     "prompt_number": 49
    },
    {
     "cell_type": "code",
     "collapsed": false,
     "input": [
      "model_config = {\n",
      "    'model_type': 'random_forest',\n",
      "    'feature_fns': ['category_median_salary',\n",
      "                    'contract_type_one_hot', \n",
      "                    'contract_time_one_hot', \n",
      "                    'num_low_salary_words',\n",
      "                    'num_high_salary_words']\n",
      "}\n",
      "train_model(df, model_config)"
     ],
     "language": "python",
     "metadata": {},
     "outputs": [],
     "prompt_number": 50
    },
    {
     "cell_type": "markdown",
     "metadata": {},
     "source": [
      "Try it yourself:\n",
      "==========\n",
      "* Try creating new features and see if you can improve on the 73-74% accuracy rate\n",
      "* Try using the SVM algorithm and compare its performance to random forest\n",
      "* Modify the `model_config` to have a prediction threshold so that the production model is more/less inclined to predict that a job has a high salary\n",
      "* Modify the API to receive the job title, contract type, and contract time, instead of the processed, numerical version of those features\n",
      "* Change the model training code to filter out homes with `nan` `ContractType` and `ContractTime`. Use the model_config to specify whether or not filtering should happen.\n",
      "* Try applying these techniques to problems related to your own work/interests"
     ]
    },
    {
     "cell_type": "markdown",
     "metadata": {},
     "source": [
      "Things to think about:\n",
      "==========\n",
      "* How do you install sklearn, pandas, and numpy in production?\n",
      "* How do you load the model into memory in production? Do you check it in and load it from disk? Download from S3? the db?\n",
      "* How dependable are your data dependencies?\n",
      "* Are the people using your prediction api getting their data from the same source that you got your training data from? If not, how are the data sources different? (e.g. what do the nans mean in the training data for ContractType and ContractTime?)\n",
      "* How stable is the problem? Does it change over time (e.g. inflation)? How often do you need to retrain the model?\n",
      "* How much memory do you need on your production machine for your model?\n",
      "* How fast do you need to make your predictions?\n",
      "* What's the cost of getting a prediction wrong?\n",
      "* How interpretable is your model prediction?\n",
      "* How painful will it be to change your prediction api?\n",
      "* What failsafes do you have in case your model starts producing garbage predictions?\n",
      "* Model training code should live in production as well to ensure repeatibility of model training"
     ]
    }
   ],
   "metadata": {}
  }
 ]
}